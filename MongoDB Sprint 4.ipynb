{
 "cells": [
  {
   "cell_type": "code",
   "execution_count": 1,
   "metadata": {},
   "outputs": [
    {
     "name": "stdout",
     "output_type": "stream",
     "text": [
      "Requirement already satisfied: pymongo==3.4.0 in c:\\users\\student-cpt-036\\appdata\\local\\continuum\\anaconda3\\lib\\site-packages (3.4.0)\n",
      "Note: you may need to restart the kernel to use updated packages.\n"
     ]
    }
   ],
   "source": [
    "pip install pymongo==3.4.0"
   ]
  },
  {
   "cell_type": "code",
   "execution_count": 2,
   "metadata": {},
   "outputs": [],
   "source": [
    "import pymongo\n",
    "\n",
    "myclient = pymongo.MongoClient(\"mongodb://localhost:27017/\")\n",
    "\n",
    "mydb = myclient[\"DataTracker\"]"
   ]
  },
  {
   "cell_type": "code",
   "execution_count": 3,
   "metadata": {},
   "outputs": [],
   "source": [
    "#Create a collection for your top 3 products in MongoDB\n",
    "myclient = pymongo.MongoClient(\"mongodb://localhost:27017/\")\n",
    "mydb = myclient[\"DataTracker\"]\n",
    "mycol = mydb[\"top 3 products\"]"
   ]
  },
  {
   "cell_type": "code",
   "execution_count": 4,
   "metadata": {},
   "outputs": [
    {
     "name": "stdout",
     "output_type": "stream",
     "text": [
      "{'_id': ObjectId('5e56728f8fa1242c702c80ae'), 'Products;Brand;Price;Quantity;Barcode;Size': 'Chips;Simba;R6;10;00000001;20g'}\n",
      "{'_id': ObjectId('5e56728f8fa1242c702c80af'), 'Products;Brand;Price;Quantity;Barcode;Size': ';Lays;R7;10;00000002;50g'}\n",
      "{'_id': ObjectId('5e56728f8fa1242c702c80b0'), 'Products;Brand;Price;Quantity;Barcode;Size': ';Pringles;R18;15;00000003;161g'}\n",
      "{'_id': ObjectId('5e56728f8fa1242c702c80b1'), 'Products;Brand;Price;Quantity;Barcode;Size': ';Doritos;R8;25;00000004;50g'}\n",
      "{'_id': ObjectId('5e56728f8fa1242c702c80b2'), 'Products;Brand;Price;Quantity;Barcode;Size': ';NikNaks;R4;50;00000005;50g'}\n",
      "{'_id': ObjectId('5e56728f8fa1242c702c80b3'), 'Products;Brand;Price;Quantity;Barcode;Size': ';Big Korn Bites;R8;60;00000006;50g'}\n",
      "{'_id': ObjectId('5e56728f8fa1242c702c80b4'), 'Products;Brand;Price;Quantity;Barcode;Size': ';Willards;R6;55;00000007;50g'}\n",
      "{'_id': ObjectId('5e56728f8fa1242c702c80b5'), 'Products;Brand;Price;Quantity;Barcode;Size': ';;;;;'}\n",
      "{'_id': ObjectId('5e56728f8fa1242c702c80b6'), 'Products;Brand;Price;Quantity;Barcode;Size': 'Cooldrinks;Coke;R12;50;00000010;500ml'}\n",
      "{'_id': ObjectId('5e56728f8fa1242c702c80b7'), 'Products;Brand;Price;Quantity;Barcode;Size': ';Fanta ;R12;40;00000011;500ml'}\n",
      "{'_id': ObjectId('5e56728f8fa1242c702c80b8'), 'Products;Brand;Price;Quantity;Barcode;Size': ';Jive;R7;25;00000012;500ml'}\n",
      "{'_id': ObjectId('5e56728f8fa1242c702c80b9'), 'Products;Brand;Price;Quantity;Barcode;Size': ';Monster;R20;10;00000013;500ml'}\n",
      "{'_id': ObjectId('5e56728f8fa1242c702c80ba'), 'Products;Brand;Price;Quantity;Barcode;Size': ';Sprite;R12;50;00000014;500ml'}\n",
      "{'_id': ObjectId('5e56728f8fa1242c702c80bb'), 'Products;Brand;Price;Quantity;Barcode;Size': ';Dr Pepper;R13;24;00000015;330ml'}\n",
      "{'_id': ObjectId('5e56728f8fa1242c702c80bc'), 'Products;Brand;Price;Quantity;Barcode;Size': ';Stoney;R13;25;00000016;330ml'}\n",
      "{'_id': ObjectId('5e56728f8fa1242c702c80bd'), 'Products;Brand;Price;Quantity;Barcode;Size': ';;;;;'}\n",
      "{'_id': ObjectId('5e56728f8fa1242c702c80be'), 'Products;Brand;Price;Quantity;Barcode;Size': 'Chocolate;Cadbury;R8;20;00000020;35g'}\n",
      "{'_id': ObjectId('5e56728f8fa1242c702c80bf'), 'Products;Brand;Price;Quantity;Barcode;Size': ';Tex;R9;15;00000021;45g'}\n",
      "{'_id': ObjectId('5e56728f8fa1242c702c80c0'), 'Products;Brand;Price;Quantity;Barcode;Size': ';P.S;R5;30;00000022;35g'}\n",
      "{'_id': ObjectId('5e56728f8fa1242c702c80c1'), 'Products;Brand;Price;Quantity;Barcode;Size': ';Bar One;R8;30;00000023;48g'}\n",
      "{'_id': ObjectId('5e56728f8fa1242c702c80c2'), 'Products;Brand;Price;Quantity;Barcode;Size': ';Snikers;R10;28;00000024;51g'}\n",
      "{'_id': ObjectId('5e56728f8fa1242c702c80c3'), 'Products;Brand;Price;Quantity;Barcode;Size': ';Lunch bar;R9;38;00000025;51g'}\n",
      "{'_id': ObjectId('5e56728f8fa1242c702c80c4'), 'Products;Brand;Price;Quantity;Barcode;Size': ';Toblerone;R27;15;00000026;58g'}\n",
      "{'_id': ObjectId('5e56728f8fa1242c702c80c5'), 'Products;Brand;Price;Quantity;Barcode;Size': ';;;;;'}\n",
      "{'_id': ObjectId('5e56728f8fa1242c702c80c6'), 'Products;Brand;Price;Quantity;Barcode;Size': 'Pies;Pepper Steak;R15;35;00000030;small'}\n",
      "{'_id': ObjectId('5e56728f8fa1242c702c80c7'), 'Products;Brand;Price;Quantity;Barcode;Size': ';Chicken;R15;35;00000031;medium'}\n",
      "{'_id': ObjectId('5e56728f8fa1242c702c80c8'), 'Products;Brand;Price;Quantity;Barcode;Size': ';Burger;R20;25;00000032;jumbo'}\n",
      "{'_id': ObjectId('5e56728f8fa1242c702c80c9'), 'Products;Brand;Price;Quantity;Barcode;Size': ';Plain Steak;R18;30;00000033;medium'}\n",
      "{'_id': ObjectId('5e56728f8fa1242c702c80ca'), 'Products;Brand;Price;Quantity;Barcode;Size': ';Sausage Roll;R15;30;00000034;small'}\n",
      "{'_id': ObjectId('5e56728f8fa1242c702c80cb'), 'Products;Brand;Price;Quantity;Barcode;Size': ';Salami & Cheese;;;;'}\n",
      "{'_id': ObjectId('5e56728f8fa1242c702c80cc'), 'Products;Brand;Price;Quantity;Barcode;Size': ';Steak & Kidney;;;;'}\n",
      "{'_id': ObjectId('5e56728f8fa1242c702c80cd'), 'Products;Brand;Price;Quantity;Barcode;Size': ';;;;;'}\n",
      "{'_id': ObjectId('5e56728f8fa1242c702c80ce'), 'Products;Brand;Price;Quantity;Barcode;Size': 'Fruit;Pear;R3;50;00000040;regular'}\n",
      "{'_id': ObjectId('5e56728f8fa1242c702c80cf'), 'Products;Brand;Price;Quantity;Barcode;Size': ';Apple;R2;50;00000041;regular'}\n",
      "{'_id': ObjectId('5e56728f8fa1242c702c80d0'), 'Products;Brand;Price;Quantity;Barcode;Size': ';Orange;R3;20;00000042;regular'}\n",
      "{'_id': ObjectId('5e56728f8fa1242c702c80d1'), 'Products;Brand;Price;Quantity;Barcode;Size': ';Banana;R4;100;00000043;regular'}\n",
      "{'_id': ObjectId('5e56728f8fa1242c702c80d2'), 'Products;Brand;Price;Quantity;Barcode;Size': ';Peach;R4;60;00000044;regular'}\n",
      "{'_id': ObjectId('5e56728f8fa1242c702c80d3'), 'Products;Brand;Price;Quantity;Barcode;Size': ';Pineapple;R10;29;00000045;regular'}\n",
      "{'_id': ObjectId('5e56728f8fa1242c702c80d4'), 'Products;Brand;Price;Quantity;Barcode;Size': ';Guava;R9;60;00000046;regular'}\n",
      "{'_id': ObjectId('5e56728f8fa1242c702c80d5'), 'Products;Brand;Price;Quantity;Barcode;Size': ';Mango;R15;60;00000047;regular'}\n",
      "{'_id': ObjectId('5e56728f8fa1242c702c80d6'), 'Products;Brand;Price;Quantity;Barcode;Size': ';;;;;'}\n",
      "{'_id': ObjectId('5e56728f8fa1242c702c80d7'), 'Products;Brand;Price;Quantity;Barcode;Size': 'Cupcakes;Vanilla;R8;20;00000050;mini'}\n",
      "{'_id': ObjectId('5e56728f8fa1242c702c80d8'), 'Products;Brand;Price;Quantity;Barcode;Size': ';Chocolate;R8;25;00000051;standard'}\n",
      "{'_id': ObjectId('5e56728f8fa1242c702c80d9'), 'Products;Brand;Price;Quantity;Barcode;Size': ';Blueberry ;R10;15;00000052;mini'}\n",
      "{'_id': ObjectId('5e56728f8fa1242c702c80da'), 'Products;Brand;Price;Quantity;Barcode;Size': ';Red Velvet;R12;10;00000053;standard'}\n",
      "{'_id': ObjectId('5e56728f8fa1242c702c80db'), 'Products;Brand;Price;Quantity;Barcode;Size': ';Carrot;R13;20;00000054;jumbo'}\n",
      "{'_id': ObjectId('5e56728f8fa1242c702c80dc'), 'Products;Brand;Price;Quantity;Barcode;Size': ';Blue velvet;R13;25;00000055;standard'}\n",
      "{'_id': ObjectId('5e56728f8fa1242c702c80dd'), 'Products;Brand;Price;Quantity;Barcode;Size': ';Oats;R14;10;00000056;jumbo'}\n",
      "{'_id': ObjectId('5e56728f8fa1242c702c80de'), 'Products;Brand;Price;Quantity;Barcode;Size': ';;;;;'}\n",
      "{'_id': ObjectId('5e56728f8fa1242c702c80df'), 'Products;Brand;Price;Quantity;Barcode;Size': 'Veggies;Spinach;R10;10;00000060;5kg'}\n",
      "{'_id': ObjectId('5e56728f8fa1242c702c80e0'), 'Products;Brand;Price;Quantity;Barcode;Size': ';Cabbage;R15;20;00000061;10kg'}\n",
      "{'_id': ObjectId('5e56728f8fa1242c702c80e1'), 'Products;Brand;Price;Quantity;Barcode;Size': ';Potatoes;R30;50;00000062;15kg'}\n",
      "{'_id': ObjectId('5e56728f8fa1242c702c80e2'), 'Products;Brand;Price;Quantity;Barcode;Size': ';Tomatoes;R13;50;00000063;10kg'}\n",
      "{'_id': ObjectId('5e56728f8fa1242c702c80e3'), 'Products;Brand;Price;Quantity;Barcode;Size': ';Carrots;R13;21;00000064;15kg'}\n",
      "{'_id': ObjectId('5e56728f8fa1242c702c80e4'), 'Products;Brand;Price;Quantity;Barcode;Size': ';Sweet Potatoes;R13;45;00000065;15kg'}\n",
      "{'_id': ObjectId('5e56728f8fa1242c702c80e5'), 'Products;Brand;Price;Quantity;Barcode;Size': ';Peas;R11;49;00000066;15kg'}\n",
      "{'_id': ObjectId('5e56728f8fa1242c702c80e6'), 'Products;Brand;Price;Quantity;Barcode;Size': ';Egg Plant;R13;10;00000067;10kg'}\n",
      "{'_id': ObjectId('5e56728f8fa1242c702c80e7'), 'Products;Brand;Price;Quantity;Barcode;Size': ''}\n"
     ]
    }
   ],
   "source": [
    "#Add your SPRINT 3 products file to MongoDB you just created\n",
    "import pymongo\n",
    "import pandas as pd\n",
    "\n",
    "myclient = pymongo.MongoClient(\"mongodb://localhost:27017/\")\n",
    "\n",
    "mydb = myclient[\"DataTracker\"]\n",
    "mycol = mydb[\"Sprint3\"]\n",
    "for x in mycol.find():\n",
    "    print(x)"
   ]
  },
  {
   "cell_type": "code",
   "execution_count": 14,
   "metadata": {},
   "outputs": [
    {
     "name": "stdout",
     "output_type": "stream",
     "text": [
      "[ObjectId('5e58c7ee94d4e81c445dabef'), ObjectId('5e58c7ee94d4e81c445dabf0'), ObjectId('5e58c7ee94d4e81c445dabf1'), ObjectId('5e58c7ee94d4e81c445dabf2'), ObjectId('5e58c7ee94d4e81c445dabf3')]\n"
     ]
    }
   ],
   "source": [
    "#Insert multiple documents into your collections in question\n",
    "myclient = pymongo.MongoClient(\"mongodb://localhost:27017/\")   \n",
    "\n",
    "mydb = myclient[\"DataTracker\"]                       \n",
    "\n",
    "mycol = mydb[\"Sprint3\"]\n",
    "\n",
    "mylist = [            \n",
    "\n",
    " { \"product\": \"chips\", \"barcode\": \"00000001\", \"price\": \"R7\", \"quantity\": \"10\", \"brand\": \"lays\" },\n",
    " { \"product\": \"chips\", \"barcode\": \"00000002\", \"price\": \"R18\", \"quantity\": \"15\", \"brand\": \"Pringles\" },\n",
    " { \"product\": \"chips\", \"barcode\": \"00000003\", \"price\": \"R8\", \"quantity\": \"25\", \"brand\": \"Doritos\" },\n",
    " { \"product\": \"chips\", \"barcode\": \"00000004\", \"price\": \"R6\", \"quantity\": \"10\", \"brand\": \"Simba\" },\n",
    " { \"product\": \"chips\", \"barcode\": \"00000005\", \"price\": \"R8\", \"quantity\": \"60\", \"brand\": \"Big Korn Bites\" }\n",
    " \n",
    "]\n",
    "\n",
    "x = mycol.insert_many(mylist)\n",
    "\n",
    "\n",
    "print(x.inserted_ids)\n"
   ]
  },
  {
   "cell_type": "code",
   "execution_count": 5,
   "metadata": {},
   "outputs": [
    {
     "name": "stdout",
     "output_type": "stream",
     "text": [
      "[ObjectId('5e57c3c294d4e823049d4fb2'), ObjectId('5e57c3c294d4e823049d4fb3'), ObjectId('5e57c3c294d4e823049d4fb4')]\n"
     ]
    }
   ],
   "source": [
    "myclient = pymongo.MongoClient(\"mongodb://localhost:27017/\")   \n",
    "\n",
    "mydb = myclient[\"DataTracker\"]                       \n",
    "\n",
    "mycol = mydb[\"top 3 products\"]\n",
    "\n",
    "mylist = [            \n",
    "\n",
    " { \"product\": \"chips\", \"barcode\": \"00000001\", \"price\": \"R7\", \"quantity\": \"10\", \"brand\": \"lays\" },\n",
    "    \n",
    " { \"product\": \"chocolate\", \"barcode\": \"00000021\", \"price\": \"R10\", \"quantity\": \"45\", \"brand\": \"kitkat\" },\n",
    "\n",
    " { \"product\": \"cooldrinks\", \"barcode\": \"00000052\", \"price\": \"R20\", \"quantity\": \"60\", \"brand\": \"monster\" }\n",
    "\n",
    "]\n",
    "\n",
    "x = mycol.insert_many(mylist)\n",
    "\n",
    "#print list of the _id values of the inserted documents:\n",
    "\n",
    "print(x.inserted_ids)"
   ]
  },
  {
   "cell_type": "code",
   "execution_count": 6,
   "metadata": {},
   "outputs": [
    {
     "name": "stdout",
     "output_type": "stream",
     "text": [
      "Collection(Database(MongoClient(host=['localhost:27017'], document_class=dict, tz_aware=False, connect=True), 'DataTracker'), 'top 3 products.inserted_ids')\n"
     ]
    }
   ],
   "source": [
    "myclient = pymongo.MongoClient(\"mongodb://localhost:27017/\")\n",
    "\n",
    "mydb = myclient[\"DataTracker\"]\n",
    "\n",
    "mycol = mydb[\"top 3 products\"] \n",
    "\n",
    "mylist = [\n",
    "\n",
    "  { \"_id\": 1, \"product\": \"chips\", \"barcode\": \"00000001\", \"price\": \"R7\", \"quantity\": \"10\", \"brand\": \"lays\" },\n",
    "    \n",
    "  { \"_id\": 2, \"product\": \"chocolate\", \"barcode\": \"00000021\", \"price\": \"R10\", \"quantity\": \"45\", \"brand\": \"kitkat\" },\n",
    "   \n",
    "  { \"_id\": 3, \"product\": \"cooldrinks\", \"barcode\": \"00000052\", \"price\": \"R20\", \"quantity\": \"60\", \"brand\": \"monster\" }\n",
    "\n",
    " \n",
    "]\n",
    "\n",
    "x = mycol\n",
    "print(x.inserted_ids)"
   ]
  },
  {
   "cell_type": "code",
   "execution_count": 17,
   "metadata": {},
   "outputs": [
    {
     "name": "stdout",
     "output_type": "stream",
     "text": [
      "{'_id': ObjectId('5e57960194d4e80c84b8e5f2'), 'product': 'cigarettes', 'barcode': '00000081', 'price': 'R36', 'quantity': '60', 'brand': 'dunhill'}\n",
      "{'_id': ObjectId('5e5673cf94d4e83020c1fd6b'), 'product': 'chocolate', 'barcode': '00000021', 'price': 'R10', 'quantity': '45', 'brand': 'kitkat'}\n",
      "{'_id': ObjectId('5e57c2f794d4e80c84b8e5fe'), 'product': 'airtime', 'barcode': '00000081', 'price': 'R15', 'quantity': '15', 'brand': 'MTN'}\n"
     ]
    }
   ],
   "source": [
    "myclient = pymongo.MongoClient(\"mongodb://localhost:27017/\")\n",
    "mydb = myclient[\"DataTracker\"]\n",
    "mycol = mydb[\"top 3 products\"]\n",
    "\n",
    "mydoc = mycol.find().sort(\"product\", -1)\n",
    "\n",
    "for x in mydoc:\n",
    "  print(x)"
   ]
  },
  {
   "cell_type": "code",
   "execution_count": 8,
   "metadata": {},
   "outputs": [
    {
     "data": {
      "text/plain": [
       "<pymongo.results.DeleteResult at 0x1c6321185e8>"
      ]
     },
     "execution_count": 8,
     "metadata": {},
     "output_type": "execute_result"
    }
   ],
   "source": [
    "#Delete 2 brands from your collection of top 3 products.\n",
    "\n",
    "myclient = pymongo.MongoClient(\"mongodb://localhost:27017/\")\n",
    "mydb = myclient[\"DataTracker\"]\n",
    "mycol = mydb[\"top 3 products\"]\n",
    "\n",
    "myquery = { \"brand\": \"lays\" }\n",
    "\n",
    "mycol.delete_one(myquery)"
   ]
  },
  {
   "cell_type": "code",
   "execution_count": 9,
   "metadata": {},
   "outputs": [
    {
     "data": {
      "text/plain": [
       "<pymongo.results.DeleteResult at 0x1c632118188>"
      ]
     },
     "execution_count": 9,
     "metadata": {},
     "output_type": "execute_result"
    }
   ],
   "source": [
    "#Delete 2 brands from your collection of top 3 products.\n",
    "\n",
    "myclient = pymongo.MongoClient(\"mongodb://localhost:27017/\")\n",
    "mydb = myclient[\"DataTracker\"]\n",
    "mycol = mydb[\"top 3 products\"]\n",
    "\n",
    "myquery = { \"brand\": \"monster\" }\n",
    "\n",
    "mycol.delete_one(myquery)"
   ]
  },
  {
   "cell_type": "code",
   "execution_count": 10,
   "metadata": {},
   "outputs": [
    {
     "name": "stdout",
     "output_type": "stream",
     "text": [
      "[ObjectId('5e57c3c394d4e823049d4fba')]\n"
     ]
    }
   ],
   "source": [
    "#Update 1 product and its brands from your collection you created in question \n",
    "myclient = pymongo.MongoClient(\"mongodb://localhost:27017/\")   \n",
    "\n",
    "mydb = myclient[\"DataTracker\"]                       \n",
    "\n",
    "mycol = mydb[\"top 3 products\"]\n",
    "\n",
    "mylist = [            \n",
    "\n",
    " { \"product\": \"airtime\", \"barcode\": \"00000081\", \"price\": \"R15\", \"quantity\": \"15\", \"brand\": \"MTN\" },\n",
    "\n",
    "]\n",
    "\n",
    "x = mycol.insert_many(mylist)\n",
    "\n",
    "#print list of the _id values of the inserted documents:\n",
    "\n",
    "print(x.inserted_ids)"
   ]
  },
  {
   "cell_type": "code",
   "execution_count": 11,
   "metadata": {},
   "outputs": [
    {
     "name": "stdout",
     "output_type": "stream",
     "text": [
      "Collection(Database(MongoClient(host=['localhost:27017'], document_class=dict, tz_aware=False, connect=True), 'DataTracker'), 'top 3 products.inserted_ids')\n"
     ]
    }
   ],
   "source": [
    "myclient = pymongo.MongoClient(\"mongodb://localhost:27017/\")\n",
    "\n",
    "mydb = myclient[\"DataTracker\"]\n",
    "\n",
    "mycol = mydb[\"top 3 products\"] \n",
    "\n",
    "mylist = [\n",
    "\n",
    "  { \"_id\": 1, \"product\": \"airtime\", \"barcode\": \"00000081\", \"price\": \"R15\", \"quantity\": \"100\", \"brand\": \"MTN\" }\n",
    "\n",
    " \n",
    "]\n",
    "\n",
    "x = mycol\n",
    "print(x.inserted_ids)"
   ]
  },
  {
   "cell_type": "code",
   "execution_count": 11,
   "metadata": {},
   "outputs": [
    {
     "name": "stdout",
     "output_type": "stream",
     "text": [
      "{'_id': ObjectId('5e57c2f794d4e80c84b8e5fe'), 'product': 'airtime', 'barcode': '00000081', 'price': 'R15', 'quantity': '15', 'brand': 'MTN'}\n"
     ]
    }
   ],
   "source": [
    "import pymongo\n",
    "\n",
    "myclient = pymongo.MongoClient(\"mongodb://localhost:27017/\")\n",
    "mydb = myclient[\"DataTracker\"]\n",
    "mycol = mydb[\"top 3 products\"]\n",
    "\n",
    "myquery = { \"product\": {\"$regex\": \"^a\"} }\n",
    "\n",
    "mydoc = mycol.find(myquery)\n",
    "\n",
    "for x in mydoc:\n",
    "    print(x)"
   ]
  },
  {
   "cell_type": "code",
   "execution_count": 12,
   "metadata": {},
   "outputs": [
    {
     "name": "stdout",
     "output_type": "stream",
     "text": [
      "{'_id': ObjectId('5e56728f8fa1242c702c80ae'), 'Products;Brand;Price;Quantity;Barcode;Size': 'Chips;Simba;R6;10;00000001;20g'}\n",
      "{'_id': ObjectId('5e56728f8fa1242c702c80af'), 'Products;Brand;Price;Quantity;Barcode;Size': ';Lays;R7;10;00000002;50g'}\n",
      "{'_id': ObjectId('5e56728f8fa1242c702c80b0'), 'Products;Brand;Price;Quantity;Barcode;Size': ';Pringles;R18;15;00000003;161g'}\n",
      "{'_id': ObjectId('5e56728f8fa1242c702c80b1'), 'Products;Brand;Price;Quantity;Barcode;Size': ';Doritos;R8;25;00000004;50g'}\n",
      "{'_id': ObjectId('5e56728f8fa1242c702c80b2'), 'Products;Brand;Price;Quantity;Barcode;Size': ';NikNaks;R4;50;00000005;50g'}\n"
     ]
    }
   ],
   "source": [
    "#Track (Search/Filter) for the least 5 brands in your products.\n",
    "import pymongo\n",
    "\n",
    "myclient = pymongo.MongoClient(\"mongodb://localhost:27017/\")\n",
    "mydb = myclient[\"DataTracker\"]\n",
    "mycol = mydb[\"Sprint3\"]\n",
    "\n",
    "myresult = mycol.find().limit(5)\n",
    "\n",
    "#print the result:\n",
    "for x in myresult:\n",
    "  print(x)"
   ]
  },
  {
   "cell_type": "code",
   "execution_count": null,
   "metadata": {},
   "outputs": [],
   "source": []
  }
 ],
 "metadata": {
  "kernelspec": {
   "display_name": "Python 3",
   "language": "python",
   "name": "python3"
  },
  "language_info": {
   "codemirror_mode": {
    "name": "ipython",
    "version": 3
   },
   "file_extension": ".py",
   "mimetype": "text/x-python",
   "name": "python",
   "nbconvert_exporter": "python",
   "pygments_lexer": "ipython3",
   "version": "3.7.4"
  }
 },
 "nbformat": 4,
 "nbformat_minor": 2
}
